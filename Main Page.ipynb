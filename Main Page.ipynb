{
 "cells": [
  {
   "cell_type": "markdown",
   "id": "3e121535-2183-49f3-a0a2-43a95c06111b",
   "metadata": {},
   "source": [
    "# Lab Assignment 1: Handling and GeoVisualisation of Urban Data"
   ]
  },
  {
   "cell_type": "markdown",
   "id": "b29fb965-e034-4bcc-916e-bc96704349a9",
   "metadata": {},
   "source": [
    "Student ID: 200025694  \n",
    "GitHub Repo link: [Lab 1 Repo](https://github.com/KatKarasekova/Lab-1-Repo)"
   ]
  },
  {
   "cell_type": "markdown",
   "id": "137d1589-86ad-44ba-946b-f70cff948f79",
   "metadata": {},
   "source": [
    "## Disclaimer  \n",
    "In submitting this assignment I hereby confirm that:\r\n",
    "\r\n",
    "I have read the University's statement on Good Academic Practice; that the following work is my own work; and that significant academic debts and borrowings have been properly acknowledged and referenced.\r\n",
    " "
   ]
  },
  {
   "cell_type": "markdown",
   "id": "19357891-fe62-467b-9734-43079a2d9dbd",
   "metadata": {},
   "source": [
    "## Table of Contents  \n",
    "1. [Introduction](#Introducction)\r\n",
    "    - How to Replicate the Code and Get the Required Daats\r\n"
   ]
  },
  {
   "cell_type": "markdown",
   "id": "071639e4-dc38-4a89-9273-df197fc79c12",
   "metadata": {},
   "source": [
    "2. <a href=\"Week 1 Challenges/Week_1.ipynb#Lab-No-1---Python-Recap:-9-Challenges\">Lab No 1: Python Recap</a>"
   ]
  },
  {
   "cell_type": "markdown",
   "id": "85341773-dc93-4fee-96c7-3b1993f95da5",
   "metadata": {},
   "source": [
    "3. <a href=\"Week 2 Challenges/Week_2.ipynb#Lab-No-1---Python-Recap:-9-Challenges\">Lab No 2: Data manipulation and working with web services</a>"
   ]
  },
  {
   "cell_type": "markdown",
   "id": "6acf25b2-3fb3-452c-8e6f-b045b3103c61",
   "metadata": {},
   "source": [
    "4. <a href=\"Week 3 Challenges/Week_3.ipynb#Lab-No-1---Python-Recap:-9-Challenges\">Lab No 3: Geovisualisation Techniques Part 1</a>"
   ]
  },
  {
   "cell_type": "markdown",
   "id": "6eafbd00-7ed1-4d68-a4ad-99c9e7f3455a",
   "metadata": {},
   "source": [
    "5. <a href=\"Week 4 Challenges/Week_4.ipynb#Lab-No-1---Python-Recap:-9-Challenges\">Lab No 4: Geovisualisation Techniques Part 2</a>"
   ]
  },
  {
   "cell_type": "markdown",
   "id": "f5250d75-8e1e-4ad1-8ef6-e0cb3712fc4f",
   "metadata": {},
   "source": [
    "## Introduction\n",
    "\n",
    "This page contains hyperlinks to other nested Jupyter Notebooks, each of which contains the solutions to a particular week's Python challenges. These notebooks are organised within the Lab 1 Repo GitHub repository which can be forked and copied by following the link provided at the top of the page. The repository is organised into folders - one for each of the 4 weeks' challenges. Each week's folder contains a Jupyter Notebook file with the code as well as all the data required to run the code. Where data from APIs is used, the URL and token (if needed) is included in the code."
   ]
  }
 ],
 "metadata": {
  "kernelspec": {
   "display_name": "Python 3 (ipykernel)",
   "language": "python",
   "name": "python3"
  },
  "language_info": {
   "codemirror_mode": {
    "name": "ipython",
    "version": 3
   },
   "file_extension": ".py",
   "mimetype": "text/x-python",
   "name": "python",
   "nbconvert_exporter": "python",
   "pygments_lexer": "ipython3",
   "version": "3.10.13"
  }
 },
 "nbformat": 4,
 "nbformat_minor": 5
}
